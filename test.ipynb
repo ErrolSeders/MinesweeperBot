{
 "cells": [
  {
   "cell_type": "code",
   "execution_count": 1,
   "metadata": {},
   "outputs": [],
   "source": [
    "using Minesweeper\n",
    "using Parameters: @with_kw"
   ]
  },
  {
   "cell_type": "code",
   "execution_count": 2,
   "metadata": {},
   "outputs": [
    {
     "data": {
      "text/plain": [
       "q_net (generic function with 1 method)"
      ]
     },
     "metadata": {},
     "output_type": "display_data"
    }
   ],
   "source": [
    "using Flux \n",
    "\n",
    "@with_kw mutable struct HyperParams\n",
    "    episodes::Integer = 10000\n",
    "    batchsize::Integer = 64 \n",
    "    replaybuffercapacity::Integer = 10000\n",
    "    updatefreq::Integer = 1000\n",
    "    ϵ::Real = 0.95 \n",
    "    ϵ_min::Real = 0.001\n",
    "    ϵ_decay::Real = 0.99975\n",
    "    γ::Real = 0.1\n",
    "    α::Real = 0.01\n",
    "    α_min::Real = 0.001\n",
    "    α_decay::Real = 0.99975\n",
    "    rewards::Dict{String, Real} = Dict(\"Loss\" => -1.0, \"Guess\" => -0.3, \"Progress\" => 0.3, \"Win\" => 1.0)\n",
    "end\n",
    "\n",
    "@with_kw struct GameParams \n",
    "    board_dim::Tuple{Integer, Integer} = (16,16)\n",
    "    mines::Integer = 40\n",
    "end\n",
    "\n",
    "struct ModelParams \n",
    "    board_dim::Tuple{Integer, Integer}\n",
    "    droprate::Real     \n",
    "end\n",
    "\n",
    "function q_net(mp::ModelParams)\n",
    "\n",
    "    total_dim = foldl(*, mp.board_dim)\n",
    "\n",
    "    layers = [\n",
    "        Conv((3,3), 1 => 32, pad = (1,1), relu),\n",
    "        Conv((3,3), 32 => 64, pad = (1,1), relu),\n",
    "        Conv((3,3), 64 => 64, pad = (1,1), relu),\n",
    "        Flux.flatten,\n",
    "        Dense((total_dim * 64), 512, relu),\n",
    "        Dense(512, total_dim)\n",
    "    ]\n",
    "\n",
    "    return Chain(layers...)\n",
    "\n",
    "end"
   ]
  },
  {
   "cell_type": "code",
   "execution_count": 3,
   "metadata": {},
   "outputs": [
    {
     "data": {
      "text/plain": [
       "GameParams\n",
       "  board_dim: Tuple{Int64, Int64}\n",
       "  mines: Int64 40\n"
      ]
     },
     "metadata": {},
     "output_type": "display_data"
    }
   ],
   "source": [
    "hp = HyperParams()\n",
    "gp = GameParams()"
   ]
  },
  {
   "cell_type": "code",
   "execution_count": 4,
   "metadata": {},
   "outputs": [
    {
     "data": {
      "text/plain": [
       "sample (generic function with 1 method)"
      ]
     },
     "metadata": {},
     "output_type": "display_data"
    }
   ],
   "source": [
    "mutable struct Experience\n",
    "    state::AbstractArray\n",
    "    action::CartesianIndex{2}\n",
    "    reward::Float64\n",
    "    next_state::AbstractArray\n",
    "    done::Bool\n",
    "end\n",
    "\n",
    "mutable struct ReplayBuffer\n",
    "    buffer::Vector{Experience}\n",
    "    capacity::Int\n",
    "    ReplayBuffer(capacity) = new(Experience[], capacity)\n",
    "end\n",
    "\n",
    "function push!(rb::ReplayBuffer, exp::Experience)\n",
    "    if length(rb.buffer) < rb.capacity\n",
    "        push!(rb.buffer, exp)\n",
    "    else \n",
    "        rb.buffer[1:end-1] .= rb.buffer[2:end]\n",
    "        rb.buffer[end] = exp\n",
    "    end\n",
    "end\n",
    "\n",
    "function sample(rb::ReplayBuffer, batch_size::Int)\n",
    "    idxs = rand(1:length(rb.buffer), batch_size)\n",
    "    batch = rb.buffer[idxs]\n",
    "\n",
    "    return (state = hcat([exp.state for exp ∈ batch]...), \n",
    "            action = [exp.action for exp ∈ batch], \n",
    "            reward = [exp.reward for exp ∈ batch], \n",
    "            next_state = hcat([exp.next_state for exp ∈ batch]...), \n",
    "            done = [exp.done for exp ∈ batch])\n",
    "end"
   ]
  },
  {
   "cell_type": "code",
   "execution_count": 5,
   "metadata": {},
   "outputs": [
    {
     "data": {
      "text/plain": [
       "Chain(\n",
       "  Conv((3, 3), 1 => 32, relu, pad=1),   \u001b[90m# 320 parameters\u001b[39m\n",
       "  Conv((3, 3), 32 => 64, relu, pad=1),  \u001b[90m# 18_496 parameters\u001b[39m\n",
       "  Conv((3, 3), 64 => 64, relu, pad=1),  \u001b[90m# 36_928 parameters\u001b[39m\n",
       "  Flux.flatten,\n",
       "  Dense(9216 => 512, relu),             \u001b[90m# 4_719_104 parameters\u001b[39m\n",
       "  Dense(512 => 144),                    \u001b[90m# 73_872 parameters\u001b[39m\n",
       ") \u001b[90m                  # Total: 10 arrays, \u001b[39m4_848_720 parameters, 18.498 MiB."
      ]
     },
     "metadata": {},
     "output_type": "display_data"
    }
   ],
   "source": [
    "mp = ModelParams((12,12), 0.1)\n",
    "qonline = q_net(mp)"
   ]
  },
  {
   "cell_type": "code",
   "execution_count": 6,
   "metadata": {},
   "outputs": [
    {
     "data": {
      "text/plain": [
       "(layers = ((σ = (), weight = \u001b[32mLeaf(Adam{Float64}(0.01, (0.9, 0.999), 1.0e-8), \u001b[39m([0.0 0.0 0.0; 0.0 0.0 0.0; 0.0 0.0 0.0;;;; 0.0 0.0 0.0; 0.0 0.0 0.0; 0.0 0.0 0.0;;;; 0.0 0.0 0.0; 0.0 0.0 0.0; 0.0 0.0 0.0;;;; … ;;;; 0.0 0.0 0.0; 0.0 0.0 0.0; 0.0 0.0 0.0;;;; 0.0 0.0 0.0; 0.0 0.0 0.0; 0.0 0.0 0.0;;;; 0.0 0.0 0.0; 0.0 0.0 0.0; 0.0 0.0 0.0], [0.0 0.0 0.0; 0.0 0.0 0.0; 0.0 0.0 0.0;;;; 0.0 0.0 0.0; 0.0 0.0 0.0; 0.0 0.0 0.0;;;; 0.0 0.0 0.0; 0.0 0.0 0.0; 0.0 0.0 0.0;;;; … ;;;; 0.0 0.0 0.0; 0.0 0.0 0.0; 0.0 0.0 0.0;;;; 0.0 0.0 0.0; 0.0 0.0 0.0; 0.0 0.0 0.0;;;; 0.0 0.0 0.0; 0.0 0.0 0.0; 0.0 0.0 0.0], (0.9, 0.999))\u001b[32m)\u001b[39m, bias = \u001b[32mLeaf(Adam{Float64}(0.01, (0.9, 0.999), 1.0e-8), \u001b[39m(Float32[0.0, 0.0, 0.0, 0.0, 0.0, 0.0, 0.0, 0.0, 0.0, 0.0  …  0.0, 0.0, 0.0, 0.0, 0.0, 0.0, 0.0, 0.0, 0.0, 0.0], Float32[0.0, 0.0, 0.0, 0.0, 0.0, 0.0, 0.0, 0.0, 0.0, 0.0  …  0.0, 0.0, 0.0, 0.0, 0.0, 0.0, 0.0, 0.0, 0.0, 0.0], (0.9, 0.999))\u001b[32m)\u001b[39m, stride = ((), ()), pad = ((), ()), dilation = ((), ()), groups = ()), (σ = (), weight = \u001b[32mLeaf(Adam{Float64}(0.01, (0.9, 0.999), 1.0e-8), \u001b[39m([0.0 0.0 0.0; 0.0 0.0 0.0; 0.0 0.0 0.0;;; 0.0 0.0 0.0; 0.0 0.0 0.0; 0.0 0.0 0.0;;; 0.0 0.0 0.0; 0.0 0.0 0.0; 0.0 0.0 0.0;;; … ;;; 0.0 0.0 0.0; 0.0 0.0 0.0; 0.0 0.0 0.0;;; 0.0 0.0 0.0; 0.0 0.0 0.0; 0.0 0.0 0.0;;; 0.0 0.0 0.0; 0.0 0.0 0.0; 0.0 0.0 0.0;;;; 0.0 0.0 0.0; 0.0 0.0 0.0; 0.0 0.0 0.0;;; 0.0 0.0 0.0; 0.0 0.0 0.0; 0.0 0.0 0.0;;; 0.0 0.0 0.0; 0.0 0.0 0.0; 0.0 0.0 0.0;;; … ;;; 0.0 0.0 0.0; 0.0 0.0 0.0; 0.0 0.0 0.0;;; 0.0 0.0 0.0; 0.0 0.0 0.0; 0.0 0.0 0.0;;; 0.0 0.0 0.0; 0.0 0.0 0.0; 0.0 0.0 0.0;;;; 0.0 0.0 0.0; 0.0 0.0 0.0; 0.0 0.0 0.0;;; 0.0 0.0 0.0; 0.0 0.0 0.0; 0.0 0.0 0.0;;; 0.0 0.0 0.0; 0.0 0.0 0.0; 0.0 0.0 0.0;;; … ;;; 0.0 0.0 0.0; 0.0 0.0 0.0; 0.0 0.0 0.0;;; 0.0 0.0 0.0; 0.0 0.0 0.0; 0.0 0.0 0.0;;; 0.0 0.0 0.0; 0.0 0.0 0.0; 0.0 0.0 0.0;;;; … ;;;; 0.0 0.0 0.0; 0.0 0.0 0.0; 0.0 0.0 0.0;;; 0.0 0.0 0.0; 0.0 0.0 0.0; 0.0 0.0 0.0;;; 0.0 0.0 0.0; 0.0 0.0 0.0; 0.0 0.0 0.0;;; … ;;; 0.0 0.0 0.0; 0.0 0.0 0.0; 0.0 0.0 0.0;;; 0.0 0.0 0.0; 0.0 0.0 0.0; 0.0 0.0 0.0;;; 0.0 0.0 0.0; 0.0 0.0 0.0; 0.0 0.0 0.0;;;; 0.0 0.0 0.0; 0.0 0.0 0.0; 0.0 0.0 0.0;;; 0.0 0.0 0.0; 0.0 0.0 0.0; 0.0 0.0 0.0;;; 0.0 0.0 0.0; 0.0 0.0 0.0; 0.0 0.0 0.0;;; … ;;; 0.0 0.0 0.0; 0.0 0.0 0.0; 0.0 0.0 0.0;;; 0.0 0.0 0.0; 0.0 0.0 0.0; 0.0 0.0 0.0;;; 0.0 0.0 0.0; 0.0 0.0 0.0; 0.0 0.0 0.0;;;; 0.0 0.0 0.0; 0.0 0.0 0.0; 0.0 0.0 0.0;;; 0.0 0.0 0.0; 0.0 0.0 0.0; 0.0 0.0 0.0;;; 0.0 0.0 0.0; 0.0 0.0 0.0; 0.0 0.0 0.0;;; … ;;; 0.0 0.0 0.0; 0.0 0.0 0.0; 0.0 0.0 0.0;;; 0.0 0.0 0.0; 0.0 0.0 0.0; 0.0 0.0 0.0;;; 0.0 0.0 0.0; 0.0 0.0 0.0; 0.0 0.0 0.0], [0.0 0.0 0.0; 0.0 0.0 0.0; 0.0 0.0 0.0;;; 0.0 0.0 0.0; 0.0 0.0 0.0; 0.0 0.0 0.0;;; 0.0 0.0 0.0; 0.0 0.0 0.0; 0.0 0.0 0.0;;; … ;;; 0.0 0.0 0.0; 0.0 0.0 0.0; 0.0 0.0 0.0;;; 0.0 0.0 0.0; 0.0 0.0 0.0; 0.0 0.0 0.0;;; 0.0 0.0 0.0; 0.0 0.0 0.0; 0.0 0.0 0.0;;;; 0.0 0.0 0.0; 0.0 0.0 0.0; 0.0 0.0 0.0;;; 0.0 0.0 0.0; 0.0 0.0 0.0; 0.0 0.0 0.0;;; 0.0 0.0 0.0; 0.0 0.0 0.0; 0.0 0.0 0.0;;; … ;;; 0.0 0.0 0.0; 0.0 0.0 0.0; 0.0 0.0 0.0;;; 0.0 0.0 0.0; 0.0 0.0 0.0; 0.0 0.0 0.0;;; 0.0 0.0 0.0; 0.0 0.0 0.0; 0.0 0.0 0.0;;;; 0.0 0.0 0.0; 0.0 0.0 0.0; 0.0 0.0 0.0;;; 0.0 0.0 0.0; 0.0 0.0 0.0; 0.0 0.0 0.0;;; 0.0 0.0 0.0; 0.0 0.0 0.0; 0.0 0.0 0.0;;; … ;;; 0.0 0.0 0.0; 0.0 0.0 0.0; 0.0 0.0 0.0;;; 0.0 0.0 0.0; 0.0 0.0 0.0; 0.0 0.0 0.0;;; 0.0 0.0 0.0; 0.0 0.0 0.0; 0.0 0.0 0.0;;;; … ;;;; 0.0 0.0 0.0; 0.0 0.0 0.0; 0.0 0.0 0.0;;; 0.0 0.0 0.0; 0.0 0.0 0.0; 0.0 0.0 0.0;;; 0.0 0.0 0.0; 0.0 0.0 0.0; 0.0 0.0 0.0;;; … ;;; 0.0 0.0 0.0; 0.0 0.0 0.0; 0.0 0.0 0.0;;; 0.0 0.0 0.0; 0.0 0.0 0.0; 0.0 0.0 0.0;;; 0.0 0.0 0.0; 0.0 0.0 0.0; 0.0 0.0 0.0;;;; 0.0 0.0 0.0; 0.0 0.0 0.0; 0.0 0.0 0.0;;; 0.0 0.0 0.0; 0.0 0.0 0.0; 0.0 0.0 0.0;;; 0.0 0.0 0.0; 0.0 0.0 0.0; 0.0 0.0 0.0;;; … ;;; 0.0 0.0 0.0; 0.0 0.0 0.0; 0.0 0.0 0.0;;; 0.0 0.0 0.0; 0.0 0.0 0.0; 0.0 0.0 0.0;;; 0.0 0.0 0.0; 0.0 0.0 0.0; 0.0 0.0 0.0;;;; 0.0 0.0 0.0; 0.0 0.0 0.0; 0.0 0.0 0.0;;; 0.0 0.0 0.0; 0.0 0.0 0.0; 0.0 0.0 0.0;;; 0.0 0.0 0.0; 0.0 0.0 0.0; 0.0 0.0 0.0;;; … ;;; 0.0 0.0 0.0; 0.0 0.0 0.0; 0.0 0.0 0.0;;; 0.0 0.0 0.0; 0.0 0.0 0.0; 0.0 0.0 0.0;;; 0.0 0.0 0.0; 0.0 0.0 0.0; 0.0 0.0 0.0], (0.9, 0.999))\u001b[32m)\u001b[39m, bias = \u001b[32mLeaf(Adam{Float64}(0.01, (0.9, 0.999), 1.0e-8), \u001b[39m(Float32[0.0, 0.0, 0.0, 0.0, 0.0, 0.0, 0.0, 0.0, 0.0, 0.0  …  0.0, 0.0, 0.0, 0.0, 0.0, 0.0, 0.0, 0.0, 0.0, 0.0], Float32[0.0, 0.0, 0.0, 0.0, 0.0, 0.0, 0.0, 0.0, 0.0, 0.0  …  0.0, 0.0, 0.0, 0.0, 0.0, 0.0, 0.0, 0.0, 0.0, 0.0], (0.9, 0.999))\u001b[32m)\u001b[39m, stride = ((), ()), pad = ((), ()), dilation = ((), ()), groups = ()), (σ = (), weight = \u001b[32mLeaf(Adam{Float64}(0.01, (0.9, 0.999), 1.0e-8), \u001b[39m([0.0 0.0 0.0; 0.0 0.0 0.0; 0.0 0.0 0.0;;; 0.0 0.0 0.0; 0.0 0.0 0.0; 0.0 0.0 0.0;;; 0.0 0.0 0.0; 0.0 0.0 0.0; 0.0 0.0 0.0;;; … ;;; 0.0 0.0 0.0; 0.0 0.0 0.0; 0.0 0.0 0.0;;; 0.0 0.0 0.0; 0.0 0.0 0.0; 0.0 0.0 0.0;;; 0.0 0.0 0.0; 0.0 0.0 0.0; 0.0 0.0 0.0;;;; 0.0 0.0 0.0; 0.0 0.0 0.0; 0.0 0.0 0.0;;; 0.0 0.0 0.0; 0.0 0.0 0.0; 0.0 0.0 0.0;;; 0.0 0.0 0.0; 0.0 0.0 0.0; 0.0 0.0 0.0;;; … ;;; 0.0 0.0 0.0; 0.0 0.0 0.0; 0.0 0.0 0.0;;; 0.0 0.0 0.0; 0.0 0.0 0.0; 0.0 0.0 0.0;;; 0.0 0.0 0.0; 0.0 0.0 0.0; 0.0 0.0 0.0;;;; 0.0 0.0 0.0; 0.0 0.0 0.0; 0.0 0.0 0.0;;; 0.0 0.0 0.0; 0.0 0.0 0.0; 0.0 0.0 0.0;;; 0.0 0.0 0.0; 0.0 0.0 0.0; 0.0 0.0 0.0;;; … ;;; 0.0 0.0 0.0; 0.0 0.0 0.0; 0.0 0.0 0.0;;; 0.0 0.0 0.0; 0.0 0.0 0.0; 0.0 0.0 0.0;;; 0.0 0.0 0.0; 0.0 0.0 0.0; 0.0 0.0 0.0;;;; … ;;;; 0.0 0.0 0.0; 0.0 0.0 0.0; 0.0 0.0 0.0;;; 0.0 0.0 0.0; 0.0 0.0 0.0; 0.0 0.0 0.0;;; 0.0 0.0 0.0; 0.0 0.0 0.0; 0.0 0.0 0.0;;; … ;;; 0.0 0.0 0.0; 0.0 0.0 0.0; 0.0 0.0 0.0;;; 0.0 0.0 0.0; 0.0 0.0 0.0; 0.0 0.0 0.0;;; 0.0 0.0 0.0; 0.0 0.0 0.0; 0.0 0.0 0.0;;;; 0.0 0.0 0.0; 0.0 0.0 0.0; 0.0 0.0 0.0;;; 0.0 0.0 0.0; 0.0 0.0 0.0; 0.0 0.0 0.0;;; 0.0 0.0 0.0; 0.0 0.0 0.0; 0.0 0.0 0.0;;; … ;;; 0.0 0.0 0.0; 0.0 0.0 0.0; 0.0 0.0 0.0;;; 0.0 0.0 0.0; 0.0 0.0 0.0; 0.0 0.0 0.0;;; 0.0 0.0 0.0; 0.0 0.0 0.0; 0.0 0.0 0.0;;;; 0.0 0.0 0.0; 0.0 0.0 0.0; 0.0 0.0 0.0;;; 0.0 0.0 0.0; 0.0 0.0 0.0; 0.0 0.0 0.0;;; 0.0 0.0 0.0; 0.0 0.0 0.0; 0.0 0.0 0.0;;; … ;;; 0.0 0.0 0.0; 0.0 0.0 0.0; 0.0 0.0 0.0;;; 0.0 0.0 0.0; 0.0 0.0 0.0; 0.0 0.0 0.0;;; 0.0 0.0 0.0; 0.0 0.0 0.0; 0.0 0.0 0.0], [0.0 0.0 0.0; 0.0 0.0 0.0; 0.0 0.0 0.0;;; 0.0 0.0 0.0; 0.0 0.0 0.0; 0.0 0.0 0.0;;; 0.0 0.0 0.0; 0.0 0.0 0.0; 0.0 0.0 0.0;;; … ;;; 0.0 0.0 0.0; 0.0 0.0 0.0; 0.0 0.0 0.0;;; 0.0 0.0 0.0; 0.0 0.0 0.0; 0.0 0.0 0.0;;; 0.0 0.0 0.0; 0.0 0.0 0.0; 0.0 0.0 0.0;;;; 0.0 0.0 0.0; 0.0 0.0 0.0; 0.0 0.0 0.0;;; 0.0 0.0 0.0; 0.0 0.0 0.0; 0.0 0.0 0.0;;; 0.0 0.0 0.0; 0.0 0.0 0.0; 0.0 0.0 0.0;;; … ;;; 0.0 0.0 0.0; 0.0 0.0 0.0; 0.0 0.0 0.0;;; 0.0 0.0 0.0; 0.0 0.0 0.0; 0.0 0.0 0.0;;; 0.0 0.0 0.0; 0.0 0.0 0.0; 0.0 0.0 0.0;;;; 0.0 0.0 0.0; 0.0 0.0 0.0; 0.0 0.0 0.0;;; 0.0 0.0 0.0; 0.0 0.0 0.0; 0.0 0.0 0.0;;; 0.0 0.0 0.0; 0.0 0.0 0.0; 0.0 0.0 0.0;;; … ;;; 0.0 0.0 0.0; 0.0 0.0 0.0; 0.0 0.0 0.0;;; 0.0 0.0 0.0; 0.0 0.0 0.0; 0.0 0.0 0.0;;; 0.0 0.0 0.0; 0.0 0.0 0.0; 0.0 0.0 0.0;;;; … ;;;; 0.0 0.0 0.0; 0.0 0.0 0.0; 0.0 0.0 0.0;;; 0.0 0.0 0.0; 0.0 0.0 0.0; 0.0 0.0 0.0;;; 0.0 0.0 0.0; 0.0 0.0 0.0; 0.0 0.0 0.0;;; … ;;; 0.0 0.0 0.0; 0.0 0.0 0.0; 0.0 0.0 0.0;;; 0.0 0.0 0.0; 0.0 0.0 0.0; 0.0 0.0 0.0;;; 0.0 0.0 0.0; 0.0 0.0 0.0; 0.0 0.0 0.0;;;; 0.0 0.0 0.0; 0.0 0.0 0.0; 0.0 0.0 0.0;;; 0.0 0.0 0.0; 0.0 0.0 0.0; 0.0 0.0 0.0;;; 0.0 0.0 0.0; 0.0 0.0 0.0; 0.0 0.0 0.0;;; … ;;; 0.0 0.0 0.0; 0.0 0.0 0.0; 0.0 0.0 0.0;;; 0.0 0.0 0.0; 0.0 0.0 0.0; 0.0 0.0 0.0;;; 0.0 0.0 0.0; 0.0 0.0 0.0; 0.0 0.0 0.0;;;; 0.0 0.0 0.0; 0.0 0.0 0.0; 0.0 0.0 0.0;;; 0.0 0.0 0.0; 0.0 0.0 0.0; 0.0 0.0 0.0;;; 0.0 0.0 0.0; 0.0 0.0 0.0; 0.0 0.0 0.0;;; … ;;; 0.0 0.0 0.0; 0.0 0.0 0.0; 0.0 0.0 0.0;;; 0.0 0.0 0.0; 0.0 0.0 0.0; 0.0 0.0 0.0;;; 0.0 0.0 0.0; 0.0 0.0 0.0; 0.0 0.0 0.0], (0.9, 0.999))\u001b[32m)\u001b[39m, bias = \u001b[32mLeaf(Adam{Float64}(0.01, (0.9, 0.999), 1.0e-8), \u001b[39m(Float32[0.0, 0.0, 0.0, 0.0, 0.0, 0.0, 0.0, 0.0, 0.0, 0.0  …  0.0, 0.0, 0.0, 0.0, 0.0, 0.0, 0.0, 0.0, 0.0, 0.0], Float32[0.0, 0.0, 0.0, 0.0, 0.0, 0.0, 0.0, 0.0, 0.0, 0.0  …  0.0, 0.0, 0.0, 0.0, 0.0, 0.0, 0.0, 0.0, 0.0, 0.0], (0.9, 0.999))\u001b[32m)\u001b[39m, stride = ((), ()), pad = ((), ()), dilation = ((), ()), groups = ()), (), (weight = \u001b[32mLeaf(Adam{Float64}(0.01, (0.9, 0.999), 1.0e-8), \u001b[39m(Float32[0.0 0.0 … 0.0 0.0; 0.0 0.0 … 0.0 0.0; … ; 0.0 0.0 … 0.0 0.0; 0.0 0.0 … 0.0 0.0], Float32[0.0 0.0 … 0.0 0.0; 0.0 0.0 … 0.0 0.0; … ; 0.0 0.0 … 0.0 0.0; 0.0 0.0 … 0.0 0.0], (0.9, 0.999))\u001b[32m)\u001b[39m, bias = \u001b[32mLeaf(Adam{Float64}(0.01, (0.9, 0.999), 1.0e-8), \u001b[39m(Float32[0.0, 0.0, 0.0, 0.0, 0.0, 0.0, 0.0, 0.0, 0.0, 0.0  …  0.0, 0.0, 0.0, 0.0, 0.0, 0.0, 0.0, 0.0, 0.0, 0.0], Float32[0.0, 0.0, 0.0, 0.0, 0.0, 0.0, 0.0, 0.0, 0.0, 0.0  …  0.0, 0.0, 0.0, 0.0, 0.0, 0.0, 0.0, 0.0, 0.0, 0.0], (0.9, 0.999))\u001b[32m)\u001b[39m, σ = ()), (weight = \u001b[32mLeaf(Adam{Float64}(0.01, (0.9, 0.999), 1.0e-8), \u001b[39m(Float32[0.0 0.0 … 0.0 0.0; 0.0 0.0 … 0.0 0.0; … ; 0.0 0.0 … 0.0 0.0; 0.0 0.0 … 0.0 0.0], Float32[0.0 0.0 … 0.0 0.0; 0.0 0.0 … 0.0 0.0; … ; 0.0 0.0 … 0.0 0.0; 0.0 0.0 … 0.0 0.0], (0.9, 0.999))\u001b[32m)\u001b[39m, bias = \u001b[32mLeaf(Adam{Float64}(0.01, (0.9, 0.999), 1.0e-8), \u001b[39m(Float32[0.0, 0.0, 0.0, 0.0, 0.0, 0.0, 0.0, 0.0, 0.0, 0.0  …  0.0, 0.0, 0.0, 0.0, 0.0, 0.0, 0.0, 0.0, 0.0, 0.0], Float32[0.0, 0.0, 0.0, 0.0, 0.0, 0.0, 0.0, 0.0, 0.0, 0.0  …  0.0, 0.0, 0.0, 0.0, 0.0, 0.0, 0.0, 0.0, 0.0, 0.0], (0.9, 0.999))\u001b[32m)\u001b[39m, σ = ())),)"
      ]
     },
     "metadata": {},
     "output_type": "display_data"
    }
   ],
   "source": [
    "opt_state = Flux.setup(ADAM(0.01), qonline)"
   ]
  },
  {
   "cell_type": "code",
   "execution_count": 7,
   "metadata": {},
   "outputs": [],
   "source": [
    "Flux.adjust!(opt_state, 0.001)"
   ]
  },
  {
   "cell_type": "code",
   "execution_count": 9,
   "metadata": {},
   "outputs": [
    {
     "data": {
      "text/plain": []
     },
     "metadata": {},
     "output_type": "display_data"
    },
    {
     "name": "stdout",
     "output_type": "stream",
     "text": [
      " ■  ■  ■  ■  ■  ■  ■  ■  ■  ■  ■  ■ \r\n",
      " ■  ■  ■  ■  ■  ■  ■  ■  ■  ■  ■  ■ \r\n",
      " ■  ■  ■  ■  ■  ■  ■  ■  ■  ■  ■  ■ \r\n",
      " ■  ■  ■  ■  ■  ■  ■  ■  ■  ■  ■  ■ \r\n",
      " ■  ■  ■  ■  ■  ■  ■  ■  ■  ■  ■  ■ \r\n",
      " ■  ■  ■  ■  ■  ■  ■  ■  ■  ■  ■  ■ \r\n",
      " ■  ■  ■  ■  ■  ■  ■  ■  ■  ■  ■  ■ \r\n",
      " ■  ■  ■  ■  ■  ■  ■  ■  ■  ■  ■  ■ \r\n",
      " ■  ■  ■  ■  ■  ■  ■  ■  ■  ■  ■  ■ \r\n",
      " ■  ■  ■  ■  ■  ■  ■  ■  ■  ■  ■  ■ \r\n",
      " ■  ■  ■  ■  ■  ■  ■  ■  ■  ■  ■  ■ \r\n",
      " ■  ■  ■  ■  ■  ■  ■  ■  ■  ■  ■  ■ \r\n",
      "\n"
     ]
    }
   ],
   "source": [
    "minegame=Game(dims=(12,12),n_mines=12)"
   ]
  },
  {
   "cell_type": "code",
   "execution_count": 10,
   "metadata": {},
   "outputs": [],
   "source": [
    "select_cell!(minegame, 6,6)\n",
    "select_cell!(minegame, 3,6)\n",
    "select_cell!(minegame, 5,6)"
   ]
  },
  {
   "cell_type": "code",
   "execution_count": 11,
   "metadata": {},
   "outputs": [
    {
     "data": {
      "text/plain": [
       "false"
      ]
     },
     "metadata": {},
     "output_type": "display_data"
    }
   ],
   "source": [
    "game_over(minegame)"
   ]
  },
  {
   "cell_type": "code",
   "execution_count": null,
   "metadata": {},
   "outputs": [],
   "source": []
  },
  {
   "cell_type": "code",
   "execution_count": 12,
   "metadata": {},
   "outputs": [
    {
     "data": {
      "text/plain": [
       "12×12 Matrix{Bool}:\n",
       " 0  0  0  0  0  0  0  0  0  0  0  0\n",
       " 0  0  0  0  0  0  0  0  0  0  0  0\n",
       " 0  0  0  0  0  1  0  0  0  0  0  0\n",
       " 0  0  0  0  0  0  0  0  0  0  0  0\n",
       " 0  0  0  1  1  1  1  1  0  0  0  0\n",
       " 0  0  0  1  1  1  1  1  1  1  1  1\n",
       " 0  0  0  1  1  1  1  1  1  1  1  1\n",
       " 0  0  0  1  1  1  1  1  1  1  1  1\n",
       " 0  0  0  0  0  1  1  1  1  1  1  1\n",
       " 0  0  0  0  0  1  1  1  1  1  1  1\n",
       " 0  0  0  0  0  1  1  1  1  1  1  1\n",
       " 0  0  0  0  0  0  1  1  1  1  1  1"
      ]
     },
     "metadata": {},
     "output_type": "display_data"
    }
   ],
   "source": [
    "revealed = [cell.revealed for cell ∈ minegame.cells]"
   ]
  },
  {
   "cell_type": "code",
   "execution_count": 13,
   "metadata": {},
   "outputs": [
    {
     "data": {
      "text/plain": [
       "CartesianIndex(5, 4)"
      ]
     },
     "metadata": {},
     "output_type": "display_data"
    }
   ],
   "source": [
    "argmax(revealed)"
   ]
  },
  {
   "cell_type": "code",
   "execution_count": 17,
   "metadata": {},
   "outputs": [
    {
     "data": {
      "text/plain": [
       "12×12 Matrix{Int64}:\n",
       " 0  1  0  0  0  0  0  0  0  0  1  1\n",
       " 1  1  0  0  0  0  0  0  0  0  1  0\n",
       " 0  0  0  0  0  0  0  0  0  0  1  1\n",
       " 0  0  0  0  0  0  0  0  1  1  1  0\n",
       " 0  0  0  0  0  0  0  0  1  0  1  0\n",
       " 1  2  2  1  1  1  1  0  1  1  1  0\n",
       " 1  1  1  1  1  0  1  0  1  1  1  0\n",
       " 1  2  2  1  1  2  2  1  1  0  1  0\n",
       " 0  0  0  1  1  2  0  1  1  1  1  0\n",
       " 1  1  1  2  1  2  1  1  0  0  0  0\n",
       " 0  1  1  1  3  2  1  0  0  0  0  0\n",
       " 1  1  1  1  2  0  1  0  0  0  0  0"
      ]
     },
     "metadata": {},
     "output_type": "display_data"
    }
   ],
   "source": [
    "mine_counts = [cell.mine_count for cell ∈ minegame.cells]"
   ]
  },
  {
   "cell_type": "code",
   "execution_count": 18,
   "metadata": {},
   "outputs": [],
   "source": [
    "board_state = zeros(size(mine_counts)) .|> Int\n",
    "for (i,x) ∈ enumerate(revealed)\n",
    "    board_state[i] = revealed[i] == 1 ? mine_counts[i] : -1\n",
    "end"
   ]
  },
  {
   "cell_type": "code",
   "execution_count": 19,
   "metadata": {},
   "outputs": [
    {
     "data": {
      "text/plain": [
       "12×12 Matrix{Int64}:\n",
       " -1   1   0   0   0   0   0   0   0   0   1  -1\n",
       "  1   1   0   0   0   0   0   0   0   0   1  -1\n",
       "  0   0   0   0   0   0   0   0   0   0   1  -1\n",
       "  0   0   0   0   0   0   0   0   1   1   1  -1\n",
       "  0   0   0   0   0   0   0   0   1  -1  -1  -1\n",
       "  1   2   2   1   1   1   1   0   1  -1  -1  -1\n",
       " -1  -1  -1  -1  -1  -1   1   0   1  -1  -1  -1\n",
       " -1  -1  -1  -1  -1  -1   2   1   1  -1  -1  -1\n",
       " -1  -1  -1  -1  -1  -1  -1  -1  -1  -1  -1  -1\n",
       " -1  -1  -1  -1  -1  -1  -1  -1  -1  -1  -1  -1\n",
       " -1  -1  -1  -1  -1  -1  -1  -1  -1  -1  -1  -1\n",
       " -1  -1  -1  -1  -1  -1  -1  -1  -1  -1  -1  -1"
      ]
     },
     "metadata": {},
     "output_type": "display_data"
    }
   ],
   "source": [
    "board_state"
   ]
  },
  {
   "cell_type": "code",
   "execution_count": 20,
   "metadata": {},
   "outputs": [
    {
     "data": {
      "text/plain": [
       "12×12×1×1 Array{Int64, 4}:\n",
       "[:, :, 1, 1] =\n",
       " -1   1   0   0   0   0   0   0   0   0   1  -1\n",
       "  1   1   0   0   0   0   0   0   0   0   1  -1\n",
       "  0   0   0   0   0   0   0   0   0   0   1  -1\n",
       "  0   0   0   0   0   0   0   0   1   1   1  -1\n",
       "  0   0   0   0   0   0   0   0   1  -1  -1  -1\n",
       "  1   2   2   1   1   1   1   0   1  -1  -1  -1\n",
       " -1  -1  -1  -1  -1  -1   1   0   1  -1  -1  -1\n",
       " -1  -1  -1  -1  -1  -1   2   1   1  -1  -1  -1\n",
       " -1  -1  -1  -1  -1  -1  -1  -1  -1  -1  -1  -1\n",
       " -1  -1  -1  -1  -1  -1  -1  -1  -1  -1  -1  -1\n",
       " -1  -1  -1  -1  -1  -1  -1  -1  -1  -1  -1  -1\n",
       " -1  -1  -1  -1  -1  -1  -1  -1  -1  -1  -1  -1"
      ]
     },
     "metadata": {},
     "output_type": "display_data"
    }
   ],
   "source": [
    "board_state = reshape(board_state, (12,12,1,1))"
   ]
  },
  {
   "cell_type": "code",
   "execution_count": 22,
   "metadata": {},
   "outputs": [
    {
     "data": {
      "text/plain": [
       "77-element Vector{CartesianIndex{2}}:\n",
       " CartesianIndex(1, 1)\n",
       " CartesianIndex(7, 1)\n",
       " CartesianIndex(8, 1)\n",
       " CartesianIndex(9, 1)\n",
       " CartesianIndex(10, 1)\n",
       " CartesianIndex(11, 1)\n",
       " CartesianIndex(12, 1)\n",
       " CartesianIndex(7, 2)\n",
       " CartesianIndex(8, 2)\n",
       " CartesianIndex(9, 2)\n",
       " ⋮\n",
       " CartesianIndex(4, 12)\n",
       " CartesianIndex(5, 12)\n",
       " CartesianIndex(6, 12)\n",
       " CartesianIndex(7, 12)\n",
       " CartesianIndex(8, 12)\n",
       " CartesianIndex(9, 12)\n",
       " CartesianIndex(10, 12)\n",
       " CartesianIndex(11, 12)\n",
       " CartesianIndex(12, 12)"
      ]
     },
     "metadata": {},
     "output_type": "display_data"
    }
   ],
   "source": [
    "unsolved = [i for (i,x) ∈ pairs(board_state[:,:]) if x == -1]"
   ]
  },
  {
   "cell_type": "code",
   "execution_count": 4,
   "metadata": {},
   "outputs": [
    {
     "data": {
      "text/plain": [
       "getboardstate (generic function with 1 method)"
      ]
     },
     "metadata": {},
     "output_type": "display_data"
    }
   ],
   "source": [
    "function getboardstate(minegame::Game)\n",
    "    revealed = [cell.revealed for cell ∈ minegame.cells]\n",
    "    mine_counts = [cell.mine_count for cell ∈ minegame.cells]\n",
    "    board_state = zeros(size(mine_counts)) .|> Int\n",
    "    for (i,x) ∈ enumerate(revealed)\n",
    "        board_state[i] = revealed[i] == 1 ? mine_counts[i] : -1\n",
    "    end\n",
    "\n",
    "    return board_state\n",
    "end"
   ]
  },
  {
   "cell_type": "code",
   "execution_count": 23,
   "metadata": {},
   "outputs": [
    {
     "data": {
      "text/plain": [
       "Chain(\n",
       "  Conv((3, 3), 1 => 32, relu, pad=1),   \u001b[90m# 320 parameters\u001b[39m\n",
       "  Conv((3, 3), 32 => 64, relu, pad=1),  \u001b[90m# 18_496 parameters\u001b[39m\n",
       "  Conv((3, 3), 64 => 64, relu, pad=1),  \u001b[90m# 36_928 parameters\u001b[39m\n",
       "  Flux.flatten,\n",
       "  Dense(9216 => 512, relu),             \u001b[90m# 4_719_104 parameters\u001b[39m\n",
       "  Dense(512 => 144),                    \u001b[90m# 73_872 parameters\u001b[39m\n",
       ") \u001b[90m                  # Total: 10 arrays, \u001b[39m4_848_720 parameters, 18.498 MiB."
      ]
     },
     "metadata": {},
     "output_type": "display_data"
    }
   ],
   "source": [
    "q_network = q_net(mp)"
   ]
  },
  {
   "cell_type": "code",
   "execution_count": 25,
   "metadata": {},
   "outputs": [
    {
     "data": {
      "text/plain": [
       "144×1 Matrix{Float32}:\n",
       "  0.008372147\n",
       "  0.075169854\n",
       "  0.06424284\n",
       " -0.008652205\n",
       " -0.088997014\n",
       "  0.023659337\n",
       "  0.053991225\n",
       " -0.14578433\n",
       "  0.113956526\n",
       " -0.0029371753\n",
       "  ⋮\n",
       "  0.011468982\n",
       "  0.041167114\n",
       " -0.06722162\n",
       "  0.03771173\n",
       "  0.14972436\n",
       " -0.04913781\n",
       "  0.060401566\n",
       " -0.080417335\n",
       "  0.07142547"
      ]
     },
     "metadata": {},
     "output_type": "display_data"
    }
   ],
   "source": [
    "moves = q_network(board_state)"
   ]
  },
  {
   "cell_type": "code",
   "execution_count": 29,
   "metadata": {},
   "outputs": [
    {
     "data": {
      "text/plain": [
       "12×12 Matrix{Float32}:\n",
       "  0.00837215   0.0711945   -0.00764437  …  -0.00495338    0.0753803\n",
       "  0.0751699    0.0102093    0.0352961      -0.0295737     0.0803521\n",
       "  0.0642428   -0.116191    -0.105575       -0.00105573   -0.188054\n",
       " -0.0086522    0.0492703    0.0113981       0.0150566     0.011469\n",
       " -0.088997     0.0327218    0.0284242      -0.0310161     0.0411671\n",
       "  0.0236593    0.110753     0.0438063   …  -0.122578     -0.0672216\n",
       "  0.0539912    0.0293491   -0.0194716       0.000325726   0.0377117\n",
       " -0.145784     0.0197853   -0.0433954      -0.152938      0.149724\n",
       "  0.113957     0.00124221   0.0843015      -0.057344     -0.0491378\n",
       " -0.00293718   0.0172967    0.132008       -0.033442      0.0604016\n",
       "  0.0811763    0.0438806   -0.0156618   …   0.122359     -0.0804173\n",
       " -0.033364     0.0931845    0.0240221       0.101141      0.0714255"
      ]
     },
     "metadata": {},
     "output_type": "display_data"
    }
   ],
   "source": [
    "moves = reshape(moves, (12,12))"
   ]
  },
  {
   "cell_type": "code",
   "execution_count": 30,
   "metadata": {},
   "outputs": [
    {
     "data": {
      "text/plain": [
       "CartesianIndex(8, 12)"
      ]
     },
     "metadata": {},
     "output_type": "display_data"
    }
   ],
   "source": [
    "best_move = argmax(moves)"
   ]
  },
  {
   "cell_type": "code",
   "execution_count": null,
   "metadata": {},
   "outputs": [],
   "source": [
    "# States: \n",
    "#   For each cell look at all neighbors of that cell\n",
    "#   For each cell look at the next two neighbors of that cell\n",
    "#       Partition the board as so\n",
    "#       Pad game board with a non-useful value for the edges 2 deep\n",
    "\n",
    "# Reward Structure:\n",
    "#   Loss, post first move = -1.0\n",
    "#   Loss, first move = 0.0\n",
    "#   Win = +1.0\n",
    "#   Progress = +0.3 \n",
    "#   Guess = -0.3\n",
    "\n",
    "# Game Loop:\n",
    "#   1. Initialize board\n",
    "#   2. Model Selects move \n",
    "#   3. "
   ]
  },
  {
   "cell_type": "code",
   "execution_count": 31,
   "metadata": {},
   "outputs": [
    {
     "data": {
      "text/plain": [
       "17"
      ]
     },
     "metadata": {},
     "output_type": "display_data"
    }
   ],
   "source": [
    "rand(1:24)"
   ]
  },
  {
   "cell_type": "code",
   "execution_count": 35,
   "metadata": {},
   "outputs": [
    {
     "data": {
      "text/plain": [
       "(17, 17)"
      ]
     },
     "metadata": {},
     "output_type": "display_data"
    }
   ],
   "source": [
    "CartesianIndex((17,17)) |> Tuple"
   ]
  },
  {
   "cell_type": "code",
   "execution_count": 36,
   "metadata": {},
   "outputs": [
    {
     "data": {
      "text/plain": [
       "12×12×1×1 Array{Int64, 4}:\n",
       "[:, :, 1, 1] =\n",
       " -1   1   0   0   0   0   0   0   0   0   1  -1\n",
       "  1   1   0   0   0   0   0   0   0   0   1  -1\n",
       "  0   0   0   0   0   0   0   0   0   0   1  -1\n",
       "  0   0   0   0   0   0   0   0   1   1   1  -1\n",
       "  0   0   0   0   0   0   0   0   1  -1  -1  -1\n",
       "  1   2   2   1   1   1   1   0   1  -1  -1  -1\n",
       " -1  -1  -1  -1  -1  -1   1   0   1  -1  -1  -1\n",
       " -1  -1  -1  -1  -1  -1   2   1   1  -1  -1  -1\n",
       " -1  -1  -1  -1  -1  -1  -1  -1  -1  -1  -1  -1\n",
       " -1  -1  -1  -1  -1  -1  -1  -1  -1  -1  -1  -1\n",
       " -1  -1  -1  -1  -1  -1  -1  -1  -1  -1  -1  -1\n",
       " -1  -1  -1  -1  -1  -1  -1  -1  -1  -1  -1  -1"
      ]
     },
     "metadata": {},
     "output_type": "display_data"
    }
   ],
   "source": [
    "board_state"
   ]
  },
  {
   "cell_type": "code",
   "execution_count": 56,
   "metadata": {},
   "outputs": [
    {
     "data": {
      "text/plain": [
       "-1"
      ]
     },
     "metadata": {},
     "output_type": "display_data"
    }
   ],
   "source": [
    "indx = CartesianIndex((9,2))\n",
    "board_state[indx]"
   ]
  },
  {
   "cell_type": "code",
   "execution_count": 87,
   "metadata": {},
   "outputs": [
    {
     "name": "stdout",
     "output_type": "stream",
     "text": [
      "true\n"
     ]
    }
   ],
   "source": [
    "i, j = indx |> Tuple\n",
    "neighbors = CartesianIndices((i-1:i+1, j-1:j+1))\n",
    "board_state[9,2] = 0\n",
    "guess_state = board_state[neighbors] .== -1\n",
    "\n",
    "if guess_state == [1 1 1 ; 1 0 1 ; 1 1 1]\n",
    "    println(\"true\")\n",
    "end"
   ]
  },
  {
   "cell_type": "code",
   "execution_count": null,
   "metadata": {},
   "outputs": [],
   "source": []
  },
  {
   "cell_type": "code",
   "execution_count": 5,
   "metadata": {},
   "outputs": [
    {
     "data": {
      "text/plain": [
       "checkguess (generic function with 1 method)"
      ]
     },
     "metadata": {},
     "output_type": "display_data"
    }
   ],
   "source": [
    "function checkguess(minegame::Game, action::CartesianIndex)::Bool\n",
    "    neighbors = get_neighbors(minegame,action)\n",
    "    return foldl( | , [cell.revealed for cell ∈ neighbors])\n",
    "end"
   ]
  },
  {
   "cell_type": "code",
   "execution_count": 110,
   "metadata": {},
   "outputs": [
    {
     "data": {
      "text/plain": [
       "true"
      ]
     },
     "metadata": {},
     "output_type": "display_data"
    }
   ],
   "source": [
    "checkguess(minegame,CartesianIndex(3,2))"
   ]
  },
  {
   "cell_type": "code",
   "execution_count": 99,
   "metadata": {},
   "outputs": [
    {
     "data": {
      "text/plain": [
       "8-element Vector{Cell}:\n",
       " Cell(false, false, false, 1, CartesianIndex(8, 1))\n",
       " Cell(false, false, false, 0, CartesianIndex(9, 1))\n",
       " Cell(false, false, false, 1, CartesianIndex(10, 1))\n",
       " Cell(false, false, false, 2, CartesianIndex(8, 2))\n",
       " Cell(false, false, false, 1, CartesianIndex(10, 2))\n",
       " Cell(false, false, false, 2, CartesianIndex(8, 3))\n",
       " Cell(false, false, false, 0, CartesianIndex(9, 3))\n",
       " Cell(false, false, false, 1, CartesianIndex(10, 3))"
      ]
     },
     "metadata": {},
     "output_type": "display_data"
    }
   ],
   "source": [
    "get_neighbors(minegame,CartesianIndex(9,2))"
   ]
  },
  {
   "cell_type": "code",
   "execution_count": 92,
   "metadata": {},
   "outputs": [],
   "source": [
    "compute_score!(minegame)"
   ]
  },
  {
   "cell_type": "code",
   "execution_count": 94,
   "metadata": {},
   "outputs": [
    {
     "name": "stdout",
     "output_type": "stream",
     "text": [
      " 💣  1  0  0  0  0  0  0  0  0  1  1 \r\n",
      " 1  1  0  0  0  0  0  0  0  0  1  💣 \r\n",
      " 0  0  0  0  0  0  0  0  0  0  1  1 \r\n",
      " 0  0  0  0  0  0  0  0  1  1  1  0 \r\n",
      " 0  0  0  0  0  0  0  0  1  💣  1  0 \r\n",
      " 1  2  2  1  1  1  1  0  1  1  1  0 \r\n",
      " 1  💣  💣  1  1  💣  1  0  1  1  1  0 \r\n",
      " 1  2  2  1  1  2  2  1  1  💣  1  0 \r\n",
      " 0  0  0  1  1  2  💣  1  1  1  1  0 \r\n",
      " 1  1  1  2  💣  2  1  1  0  0  0  0 \r\n",
      " 💣  1  1  💣  3  2  1  0  0  0  0  0 \r\n",
      " 1  1  1  1  2  💣  1  0  0  0  0  0 \r\n",
      "\n"
     ]
    }
   ],
   "source": [
    "reveal(minegame.cells)"
   ]
  },
  {
   "cell_type": "code",
   "execution_count": 19,
   "metadata": {},
   "outputs": [
    {
     "data": {
      "text/plain": [
       "takeaction (generic function with 1 method)"
      ]
     },
     "metadata": {},
     "output_type": "display_data"
    }
   ],
   "source": [
    "function takeaction(minegame::Game, action::CartesianIndex)\n",
    "    select_cell!(minegame,(action |> tuple)...)\n",
    "    \n",
    "    if game_over(minegame)\n",
    "        reward = \"Loss\" \n",
    "        done = true\n",
    "    else\n",
    "        done = false\n",
    "        if checkguess(minegame, action)\n",
    "            reward = \"Guess\"\n",
    "        end\n",
    "        reward = \"Progress\"\n",
    "    end\n",
    "    return reward, getboardstate(minegame), done\n",
    "\n",
    "end"
   ]
  },
  {
   "cell_type": "code",
   "execution_count": 23,
   "metadata": {},
   "outputs": [
    {
     "data": {
      "text/plain": [
       "train_loop (generic function with 1 method)"
      ]
     },
     "metadata": {},
     "output_type": "display_data"
    }
   ],
   "source": [
    "decayparam = (p,pd,pm) -> p > pm ? p = p*pd : Nothing\n",
    "\n",
    "function train_loop(mp::ModelParams, hp::HyperParams, gp::GameParams)\n",
    "    q_online = q_net(mp)\n",
    "    q_target = q_net(mp)\n",
    "\n",
    "    num_actions = foldl(*, gp.board_dim)\n",
    "\n",
    "    opt = ADAM(hp.α)\n",
    "    lossfn = Flux.mse\n",
    "\n",
    "    rb = ReplayBuffer(hp.replaybuffercapacity)\n",
    "\n",
    "    for episode ∈ 1:hp.episodes\n",
    "        \n",
    "        minegame = Game(dims=gp.board_dim, n_mines=gp.mines)\n",
    "\n",
    "        total_reward = 0.0\n",
    "        steps = 0\n",
    "\n",
    "        playing = true\n",
    "\n",
    "        while playing\n",
    "\n",
    "            #prepare boardstate\n",
    "            board_state = getboardstate(minegame)\n",
    "\n",
    "            unsolved = [i for (i,x) ∈ pairs(board_state) if x == -1]\n",
    "        \n",
    "            if length(unsolved) == gp.mines\n",
    "\n",
    "                reward = \"Win\"\n",
    "                playing = false\n",
    "                done = true\n",
    "                next_state = board_stat\n",
    "\n",
    "            else\n",
    "\n",
    "                if rand() < hp.ϵ\n",
    "                    action = (rand(1:mp.board_dim[1]), rand(1:mp.board_dim[2])) |> CartesianIndex\n",
    "                else\n",
    "                    q_values = q_online(reshape(board_state,(mp.board_dim...,1,1)))\n",
    "                    action = reshape(q_values, mp.board_dim)[unsolved] |> argmax\n",
    "                end\n",
    "\n",
    "                reward, next_state, done = takeaction(minegame, action)\n",
    "\n",
    "            reward_val = hp.rewards[reward]\n",
    "            exp = Experience(board_state, action, reward_val, next_state, done)\n",
    "\n",
    "            push!(rp, exp)\n",
    "\n",
    "            total_reward += reward_val\n",
    "            steps += 1\n",
    "\n",
    "            batch = replay_buffer.sample(hp.batch_size)\n",
    "\n",
    "            states, actions, rewards, next_states, dones = tuple.(zip((b.state, b.action, b.reward, b.next_state, b.done) for b ∈ batch))\n",
    "            \n",
    "            next_q_vals = q_target(next_states)\n",
    "            next_actions = argmax(q_online(next_states), dims=2)\n",
    "            next_q_vals = next_q_vals[CartesianIndex.((1:batch_size, next_actions))]\n",
    "            TD_targets = rewards .+ hp.γ .* (1 .- dones) .* next_q_vals\n",
    "\n",
    "            q_vals = q_online(states)\n",
    "            q_vals = q_vals[CartesianIndex.((1:batch_size, next_actions))]\n",
    "            \n",
    "            #Compute loss & update online Q-network\n",
    "            loss = lossfn(q_vals, TD_targets)\n",
    "            gradient = gradient(() -> loss, Flux.params(q_online))\n",
    "            opt(gradient)\n",
    "\n",
    "            #update target Q-network\n",
    "            if steps % hp.updatefrequency == 0\n",
    "                Flux.loadparams!(q_target, Flux.params(q_online))\n",
    "            end\n",
    "\n",
    "            #Decay ϵ and α \n",
    "            decayparam(hp.ϵ,hp.ϵ_decay,hp.ϵ_min)\n",
    "            decayparam(hp.α,hp.α_decay,hp.α_min)\n",
    "        \n",
    "            end\n",
    "        end\n",
    "        println(\"Episode $episode : Total Reward $total_reward : Exploration Rate $(hp.ϵ)\")\n",
    "    end\n",
    "end\n",
    "   "
   ]
  },
  {
   "cell_type": "code",
   "execution_count": 24,
   "metadata": {},
   "outputs": [
    {
     "data": {
      "text/plain": [
       "ModelParams((16, 16), 0.1)"
      ]
     },
     "metadata": {},
     "output_type": "display_data"
    }
   ],
   "source": [
    "mp = ModelParams(gp.board_dim, 0.1)"
   ]
  },
  {
   "cell_type": "code",
   "execution_count": 25,
   "metadata": {},
   "outputs": [
    {
     "ename": "MethodError",
     "evalue": "MethodError: Cannot `convert` an object of type CartesianIndex{2} to an object of type Int64\nClosest candidates are:\n  convert(::Type{T}, !Matched::Ptr) where T<:Integer at pointer.jl:23\n  convert(::Type{<:Integer}, !Matched::CUDA.CUSPARSE.cusparseIndexBase_t) at ~/.julia/packages/CUDA/DfvRa/lib/cusparse/types.jl:42\n  convert(::Type{T1}, !Matched::CEnum.Cenum{T2}) where {T1<:Integer, T2<:Integer} at ~/.julia/packages/CEnum/Bqafi/src/operators.jl:24\n  ...",
     "output_type": "error",
     "traceback": [
      "MethodError: Cannot `convert` an object of type CartesianIndex{2} to an object of type Int64\n",
      "Closest candidates are:\n",
      "  convert(::Type{T}, !Matched::Ptr) where T<:Integer at pointer.jl:23\n",
      "  convert(::Type{<:Integer}, !Matched::CUDA.CUSPARSE.cusparseIndexBase_t) at ~/.julia/packages/CUDA/DfvRa/lib/cusparse/types.jl:42\n",
      "  convert(::Type{T1}, !Matched::CEnum.Cenum{T2}) where {T1<:Integer, T2<:Integer} at ~/.julia/packages/CEnum/Bqafi/src/operators.jl:24\n",
      "  ...\n",
      "\n",
      "Stacktrace:\n",
      " [1] Experience(state::Matrix{Int64}, action::CartesianIndex{2}, reward::Float64, next_state::Matrix{Int64}, done::Bool)\n",
      "   @ Main ~/Desktop/CS/MinesweeperBot/test.ipynb:2\n",
      " [2] train_loop(mp::ModelParams, hp::HyperParams, gp::GameParams)\n",
      "   @ Main ~/Desktop/CS/MinesweeperBot/test.ipynb:49\n",
      " [3] top-level scope\n",
      "   @ ~/Desktop/CS/MinesweeperBot/test.ipynb:1"
     ]
    }
   ],
   "source": [
    "train_loop(mp,hp,gp)"
   ]
  },
  {
   "cell_type": "code",
   "execution_count": 9,
   "metadata": {},
   "outputs": [
    {
     "data": {
      "text/plain": [
       "Adam(0.1, (0.9, 0.999), 1.0e-8, IdDict{Any, Any}())"
      ]
     },
     "metadata": {},
     "output_type": "display_data"
    }
   ],
   "source": []
  },
  {
   "cell_type": "code",
   "execution_count": 11,
   "metadata": {},
   "outputs": [
    {
     "data": {
      "text/plain": [
       "0.01"
      ]
     },
     "metadata": {},
     "output_type": "display_data"
    }
   ],
   "source": []
  },
  {
   "cell_type": "code",
   "execution_count": 12,
   "metadata": {},
   "outputs": [
    {
     "data": {
      "text/plain": [
       "Adam(0.01, (0.9, 0.999), 1.0e-8, IdDict{Any, Any}())"
      ]
     },
     "metadata": {},
     "output_type": "display_data"
    }
   ],
   "source": []
  }
 ],
 "metadata": {
  "kernelspec": {
   "display_name": "Julia 1.8.2",
   "language": "julia",
   "name": "julia-1.8"
  },
  "language_info": {
   "file_extension": ".jl",
   "mimetype": "application/julia",
   "name": "julia",
   "version": "1.8.2"
  },
  "orig_nbformat": 4
 },
 "nbformat": 4,
 "nbformat_minor": 2
}
